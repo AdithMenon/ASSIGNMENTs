{
 "cells": [
  {
   "cell_type": "markdown",
   "metadata": {},
   "source": [
    "# Write a Python Program(with class concepts) to find the area of the triangle using the below\n",
    "\n"
   ]
  },
  {
   "cell_type": "code",
   "execution_count": 15,
   "metadata": {},
   "outputs": [
    {
     "name": "stdout",
     "output_type": "stream",
     "text": [
      "enter the first side4\n",
      "enter the second side5\n",
      "enter the third side6\n",
      "area of triangle is 9.921567416492215\n"
     ]
    }
   ],
   "source": [
    "class sides:\n",
    "    def __init__(self, a, b, c):\n",
    "        self.a =a\n",
    "        self.b =b\n",
    "        self.c =c\n",
    "        \n",
    "\n",
    "class triangle(sides):\n",
    "    def __init__(self, a, b, c):\n",
    "        super().__init__(a, b, c)\n",
    "\n",
    "    def area_triangle(self):\n",
    "        s = (self.a + self.b + self.c) / 2\n",
    "        return  float((s * (s - self.a) * (s - self.b) * (s - self.c))) ** 0.5\n",
    "a =float(input(\"enter the first side\"))\n",
    "b =float(input(\"enter the second side\"))\n",
    "c =float(input(\"enter the third side\"))\n",
    "t=triangle(a,b,c)\n",
    "print(\"area of triangle is\", t.area_triangle())"
   ]
  },
  {
   "cell_type": "markdown",
   "metadata": {},
   "source": [
    "# 1.2 Write a function filter_long_words() that takes a list of words and an integer n and returns the list of words that are longer than n."
   ]
  },
  {
   "cell_type": "code",
   "execution_count": 2,
   "metadata": {},
   "outputs": [
    {
     "name": "stdout",
     "output_type": "stream",
     "text": [
      "input the no of word 3\n",
      "enter the limit of words4\n",
      "enter the word good morning\n",
      "enter the word job\n",
      "enter the word john\n",
      "['good morning']\n"
     ]
    }
   ],
   "source": [
    "def filter_longwords(c):\n",
    "    for k in range(n):\n",
    "        if len(c[k])>m:\n",
    "            b.append(a[k]) \n",
    "    return b\n",
    "\n",
    "            \n",
    "a = []\n",
    "b=[]\n",
    "d=[]\n",
    "c=[]\n",
    "n=int(input(\"input the no of word \"))\n",
    "m=int(input(\"enter the limit of words\"))\n",
    "for i in range(1,n+1):  \n",
    "    y=input(\"enter the word \")\n",
    "    a.append(y) \n",
    "d=filter_longwords(a)\n",
    "print(d)"
   ]
  },
  {
   "cell_type": "markdown",
   "metadata": {},
   "source": [
    "\n"
   ]
  },
  {
   "cell_type": "markdown",
   "metadata": {},
   "source": [
    "# 2.1 Write a Python program using function concept that maps list of words into a list of integers representing the lengths of the corresponding words."
   ]
  },
  {
   "cell_type": "code",
   "execution_count": 1,
   "metadata": {},
   "outputs": [
    {
     "name": "stdout",
     "output_type": "stream",
     "text": [
      "input the no of word 4\n",
      "enter the word ab\n",
      "enter the word abc\n",
      "enter the word abcd\n",
      "enter the word abcde\n",
      "[2, 3, 4, 5]\n"
     ]
    }
   ],
   "source": [
    "def wordtolength(c):\n",
    "    for k in range(n):\n",
    "        z=len(a[k])\n",
    "        b.append(z) \n",
    "    return b\n",
    "\n",
    "            \n",
    "a = []\n",
    "b=[]\n",
    "d=[]\n",
    "c=[]\n",
    "n=int(input(\"input the no of word \"))\n",
    "\n",
    "for i in range(1,n+1):  \n",
    "    y=input(\"enter the word \")\n",
    "    a.append(y) \n",
    "d=wordtolength(a)\n",
    "print(d)"
   ]
  },
  {
   "cell_type": "code",
   "execution_count": null,
   "metadata": {},
   "outputs": [],
   "source": []
  },
  {
   "cell_type": "markdown",
   "metadata": {},
   "source": [
    "# 2.2 Write a Python function which takes a character (i.e. a string of length 1) and returns True if it is a vowel, False otherwise."
   ]
  },
  {
   "cell_type": "code",
   "execution_count": 14,
   "metadata": {},
   "outputs": [
    {
     "name": "stdout",
     "output_type": "stream",
     "text": [
      "enter a characterg\n",
      "False\n"
     ]
    }
   ],
   "source": [
    "def vowel():\n",
    "    flag=0\n",
    "    h=[\"a\",\"e\",\"i\",\"o\",\"u\"]\n",
    "    n=input(\"enter a character\")\n",
    "    for i in range(len(a)):\n",
    "        if h[i]==n:\n",
    "            flag=1\n",
    "           \n",
    "    return True if flag==1 else False\n",
    "z=vowel()\n",
    "print(z)"
   ]
  },
  {
   "cell_type": "code",
   "execution_count": null,
   "metadata": {},
   "outputs": [],
   "source": []
  },
  {
   "cell_type": "code",
   "execution_count": null,
   "metadata": {},
   "outputs": [],
   "source": []
  }
 ],
 "metadata": {
  "kernelspec": {
   "display_name": "Python 3",
   "language": "python",
   "name": "python3"
  },
  "language_info": {
   "codemirror_mode": {
    "name": "ipython",
    "version": 3
   },
   "file_extension": ".py",
   "mimetype": "text/x-python",
   "name": "python",
   "nbconvert_exporter": "python",
   "pygments_lexer": "ipython3",
   "version": "3.8.3"
  }
 },
 "nbformat": 4,
 "nbformat_minor": 4
}
